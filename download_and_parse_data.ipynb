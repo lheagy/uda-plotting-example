{
 "cells": [
  {
   "cell_type": "code",
   "execution_count": 10,
   "metadata": {},
   "outputs": [],
   "source": [
    "import os\n",
    "import shutil\n",
    "import tarfile\n",
    "import shelve\n",
    "import tarfile\n",
    "import discretize\n",
    "# import pyvista as pv\n",
    "import numpy as np\n",
    "import matplotlib.pyplot as plt"
   ]
  },
  {
   "cell_type": "code",
   "execution_count": 4,
   "metadata": {},
   "outputs": [
    {
     "name": "stdout",
     "output_type": "stream",
     "text": [
      "Downloading https://storage.googleapis.com/simpeg/Chile_GRAV_4_Miller/Chile_GRAV_4_Miller.tar.gz\n",
      "   saved to: /Users/lindseyjh/git/simpeg-research/plotting-example/Chile_GRAV_4_Miller.tar.gz\n",
      "Download completed!\n",
      "Downloading https://storage.googleapis.com/simpeg/laguna_del_maule_slicer.tar.gz\n",
      "   saved to: /Users/lindseyjh/git/simpeg-research/plotting-example/laguna_del_maule_slicer.tar.gz\n",
      "Download completed!\n"
     ]
    }
   ],
   "source": [
    "# Download Topography and Observed gravity data\n",
    "url = \"https://storage.googleapis.com/simpeg/Chile_GRAV_4_Miller/Chile_GRAV_4_Miller.tar.gz\"\n",
    "downloads = discretize.utils.download(url, overwrite=True)\n",
    "basePath = downloads.split(\".\")[0]\n",
    "\n",
    "# unzip the tarfile\n",
    "tar = tarfile.open(downloads, \"r\")\n",
    "tar.extractall()\n",
    "tar.close()\n",
    "\n",
    "# Download the inverted model\n",
    "f = discretize.utils.download(\n",
    "    \"https://storage.googleapis.com/simpeg/laguna_del_maule_slicer.tar.gz\"\n",
    ")\n",
    "tar = tarfile.open(f, \"r\")\n",
    "tar.extractall()\n",
    "tar.close()\n",
    "\n",
    "with shelve.open('./laguna_del_maule_slicer/laguna_del_maule-result') as db:\n",
    "    mesh = db['mesh']\n",
    "    Lpout = db['Lpout']\n",
    "\n",
    "# Load the mesh/data\n",
    "mesh = discretize.TensorMesh.copy(mesh)\n",
    "models = {'Lpout':Lpout}"
   ]
  },
  {
   "cell_type": "code",
   "execution_count": 5,
   "metadata": {},
   "outputs": [
    {
     "data": {
      "text/html": [
       "<table>\n",
       "  <tr>\n",
       "    <td style='font-weight: bold; font-size: 1.2em; text-align: center;' colspan='3'>TensorMesh</td>\n",
       "    <td style='font-size: 1.2em; text-align: center;'colspan='4'>190,440 cells</td>\n",
       "  </tr>\n",
       "  <tr>\n",
       "    <th></th>\n",
       "    <th></th>\n",
       "    <th colspan='2' style='padding: 5px 20px 5px 20px;'>MESH EXTENT</th>\n",
       "    <th colspan='2' style='padding: 5px 20px 5px 20px;'>CELL WIDTH</th>\n",
       "    <th style='padding: 5px 20px 5px 20px;'>FACTOR</th>\n",
       "  </tr>\n",
       "  <tr>\n",
       "    <th style='padding: 5px 20px 5px 20px;'>dir</th>\n",
       "    <th style='padding: 5px 20px 5px 20px;'>nC</th>\n",
       "    <th style='padding: 5px 20px 5px 20px;'>min</th>\n",
       "    <th style='padding: 5px 20px 5px 20px;'>max</th>\n",
       "    <th style='padding: 5px 20px 5px 20px;'>min</th>\n",
       "    <th style='padding: 5px 20px 5px 20px;'>max</th>\n",
       "    <th style='padding: 5px 20px 5px 20px;'>max</th>\n",
       "  </tr>\n",
       "  <tr>\n",
       "    <td style='padding: 5px 20px 5px 20px;'>x</td>\n",
       "    <td style='padding: 5px 20px 5px 20px;'>69</td>\n",
       "    <td style='padding: 5px 20px 5px 20px;'>355,000.00</td>\n",
       "    <td style='padding: 5px 20px 5px 20px;'>372,250.00</td>\n",
       "    <td style='padding: 5px 20px 5px 20px;'>250.00</td>\n",
       "    <td style='padding: 5px 20px 5px 20px;'>250.00</td>\n",
       "    <td style='padding: 5px 20px 5px 20px;'>1.00</td>\n",
       "  </tr>\n",
       "  <tr>\n",
       "    <td style='padding: 5px 20px 5px 20px;'>y</td>\n",
       "    <td style='padding: 5px 20px 5px 20px;'>69</td>\n",
       "    <td style='padding: 5px 20px 5px 20px;'>5,999,000.00</td>\n",
       "    <td style='padding: 5px 20px 5px 20px;'>6,016,250.00</td>\n",
       "    <td style='padding: 5px 20px 5px 20px;'>250.00</td>\n",
       "    <td style='padding: 5px 20px 5px 20px;'>250.00</td>\n",
       "    <td style='padding: 5px 20px 5px 20px;'>1.00</td>\n",
       "  </tr>\n",
       "  <tr>\n",
       "    <td style='padding: 5px 20px 5px 20px;'>z</td>\n",
       "    <td style='padding: 5px 20px 5px 20px;'>40</td>\n",
       "    <td style='padding: 5px 20px 5px 20px;'>-5,250.00</td>\n",
       "    <td style='padding: 5px 20px 5px 20px;'>3,000.00</td>\n",
       "    <td style='padding: 5px 20px 5px 20px;'>100.00</td>\n",
       "    <td style='padding: 5px 20px 5px 20px;'>350.00</td>\n",
       "    <td style='padding: 5px 20px 5px 20px;'>1.21</td>\n",
       "  </tr>\n",
       "</table>\n"
      ],
      "text/plain": [
       "\n",
       "  TensorMesh: 190,440 cells\n",
       "\n",
       "                      MESH EXTENT             CELL WIDTH      FACTOR\n",
       "  dir    nC        min           max         min       max      max\n",
       "  ---   ---  ---------------------------  ------------------  ------\n",
       "   x     69    355,000.00    372,250.00    250.00    250.00    1.00\n",
       "   y     69  5,999,000.00  6,016,250.00    250.00    250.00    1.00\n",
       "   z     40     -5,250.00      3,000.00    100.00    350.00    1.21\n"
      ]
     },
     "execution_count": 5,
     "metadata": {},
     "output_type": "execute_result"
    }
   ],
   "source": [
    "mesh"
   ]
  },
  {
   "cell_type": "code",
   "execution_count": 9,
   "metadata": {},
   "outputs": [],
   "source": [
    "mod = Lpout.reshape(mesh.vnC, order=\"F\")"
   ]
  },
  {
   "cell_type": "code",
   "execution_count": 11,
   "metadata": {},
   "outputs": [
    {
     "data": {
      "text/plain": [
       "<matplotlib.collections.QuadMesh at 0x11b735208>"
      ]
     },
     "execution_count": 11,
     "metadata": {},
     "output_type": "execute_result"
    },
    {
     "data": {
      "image/png": "[encoded data removed]",
      "text/plain": [
       "<Figure size 432x288 with 1 Axes>"
      ]
     },
     "metadata": {
      "needs_background": "light"
     },
     "output_type": "display_data"
    }
   ],
   "source": [
    "plt.pcolormesh(mesh.vectorCCx, mesh.vectorCCy, mod[:, :, 10])"
   ]
  },
  {
   "cell_type": "code",
   "execution_count": 12,
   "metadata": {},
   "outputs": [],
   "source": [
    "x = mesh.vectorCCx\n",
    "y = mesh.vectorCCy\n",
    "z = mesh.vectorCCz\n",
    "model = mod"
   ]
  },
  {
   "cell_type": "code",
   "execution_count": 13,
   "metadata": {},
   "outputs": [],
   "source": [
    "data = {\n",
    "    \"x\":x,\n",
    "    \"y\":y, \n",
    "    \"z\":z, \n",
    "    \"model\":model\n",
    "}"
   ]
  },
  {
   "cell_type": "code",
   "execution_count": 15,
   "metadata": {},
   "outputs": [],
   "source": [
    "import deepdish as dd"
   ]
  },
  {
   "cell_type": "code",
   "execution_count": 18,
   "metadata": {},
   "outputs": [],
   "source": [
    "dd.io.save(\"laguna_del_maule_miller.h5\", data)"
   ]
  },
  {
   "cell_type": "code",
   "execution_count": null,
   "metadata": {},
   "outputs": [],
   "source": []
  }
 ],
 "metadata": {
  "kernelspec": {
   "display_name": "Python 3",
   "language": "python",
   "name": "python3"
  },
  "language_info": {
   "codemirror_mode": {
    "name": "ipython",
    "version": 3
   },
   "file_extension": ".py",
   "mimetype": "text/x-python",
   "name": "python",
   "nbconvert_exporter": "python",
   "pygments_lexer": "ipython3",
   "version": "3.7.3"
  }
 },
 "nbformat": 4,
 "nbformat_minor": 2
}
